{
 "cells": [
  {
   "cell_type": "code",
   "execution_count": 6,
   "metadata": {},
   "outputs": [],
   "source": [
    "# if needed, do: pip install python-constraint\n",
    "from constraint import *"
   ]
  },
  {
   "cell_type": "code",
   "execution_count": 7,
   "metadata": {},
   "outputs": [],
   "source": [
    "#create a new constrint problem\n",
    "p = Problem()"
   ]
  },
  {
   "cell_type": "code",
   "execution_count": 8,
   "metadata": {},
   "outputs": [],
   "source": [
    "# create nine variables named 0..8\n",
    "# where each one has a domain of 1..9\n",
    "p.addVariables(range(0, 9), range(1, 9+1))"
   ]
  },
  {
   "cell_type": "code",
   "execution_count": 9,
   "metadata": {},
   "outputs": [],
   "source": [
    "# Each variable must have a different value\n",
    "p.addConstraint(AllDifferentConstraint(), range(0, 9))\n",
    "\n",
    "# the sum of the diagonals must be 15\n",
    "p.addConstraint(ExactSumConstraint(15), [0,4,8])\n",
    "p.addConstraint(ExactSumConstraint(15), [2,4,6])\n",
    "\n",
    "# the sum of each row must be 15\n",
    "for row in range(3):\n",
    "    p.addConstraint(ExactSumConstraint(15),\n",
    "                          [row*3+i for i in range(3)])\n",
    "    \n",
    "# the sum of each column must be 15\n",
    "for col in range(3):\n",
    "    p.addConstraint(ExactSumConstraint(15),\n",
    "                          [col+3*i for i in range(3)])"
   ]
  },
  {
   "cell_type": "code",
   "execution_count": 10,
   "metadata": {},
   "outputs": [
    {
     "name": "stdout",
     "output_type": "stream",
     "text": [
      "\n",
      "6 7 2\n",
      "1 5 9\n",
      "8 3 4\n",
      "\n",
      "6 1 8\n",
      "7 5 3\n",
      "2 9 4\n",
      "\n",
      "8 1 6\n",
      "3 5 7\n",
      "4 9 2\n",
      "\n",
      "8 3 4\n",
      "1 5 9\n",
      "6 7 2\n",
      "\n",
      "4 3 8\n",
      "9 5 1\n",
      "2 7 6\n",
      "\n",
      "4 9 2\n",
      "3 5 7\n",
      "8 1 6\n",
      "\n",
      "2 7 6\n",
      "9 5 1\n",
      "4 3 8\n",
      "\n",
      "2 9 4\n",
      "7 5 3\n",
      "6 1 8\n"
     ]
    }
   ],
   "source": [
    "# find all solutions and print them\n",
    "for solution in p.getSolutions():\n",
    "    print\n",
    "    for row in range(3):\n",
    "        for col in range(3):\n",
    "            print solution[row*3+col],\n",
    "        print"
   ]
  },
  {
   "cell_type": "code",
   "execution_count": null,
   "metadata": {
    "collapsed": true
   },
   "outputs": [],
   "source": []
  }
 ],
 "metadata": {
  "kernelspec": {
   "display_name": "Python 2",
   "language": "python",
   "name": "python2"
  },
  "language_info": {
   "codemirror_mode": {
    "name": "ipython",
    "version": 2
   },
   "file_extension": ".py",
   "mimetype": "text/x-python",
   "name": "python",
   "nbconvert_exporter": "python",
   "pygments_lexer": "ipython2",
   "version": "2.7.14"
  }
 },
 "nbformat": 4,
 "nbformat_minor": 2
}
