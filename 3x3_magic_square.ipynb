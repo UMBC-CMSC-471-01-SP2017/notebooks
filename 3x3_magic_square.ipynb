{
 "cells": [
  {
   "cell_type": "code",
   "execution_count": null,
   "metadata": {
    "collapsed": false,
    "deletable": true,
    "editable": true
   },
   "outputs": [],
   "source": [
    "# if needed, do: pip install python-constraint\n",
    "from constraint import *"
   ]
  },
  {
   "cell_type": "code",
   "execution_count": null,
   "metadata": {
    "collapsed": true,
    "deletable": true,
    "editable": true
   },
   "outputs": [],
   "source": [
    "#create a new constrint problem\n",
    "p = Problem()"
   ]
  },
  {
   "cell_type": "code",
   "execution_count": null,
   "metadata": {
    "collapsed": true,
    "deletable": true,
    "editable": true
   },
   "outputs": [],
   "source": [
    "# create nine variables named 0..8\n",
    "# where each one has a domain of 1..9\n",
    "p.addVariables(range(0, 9), range(1, 9+1))"
   ]
  },
  {
   "cell_type": "code",
   "execution_count": null,
   "metadata": {
    "collapsed": false,
    "deletable": true,
    "editable": true
   },
   "outputs": [],
   "source": [
    "# Each variable must have a different value\n",
    "p.addConstraint(AllDifferentConstraint(), range(0, 9))\n",
    "\n",
    "# the sum of the diagonals must be 15\n",
    "p.addConstraint(ExactSumConstraint(15), [0,4,8])\n",
    "p.addConstraint(ExactSumConstraint(15), [2,4,6])\n",
    "\n",
    "# the sum of each row must be 15\n",
    "for row in range(3):\n",
    "    p.addConstraint(ExactSumConstraint(15),\n",
    "                          [row*3+i for i in range(3)])\n",
    "    \n",
    "# the sum of each column must be 15\n",
    "for col in range(3):\n",
    "    p.addConstraint(ExactSumConstraint(15),\n",
    "                          [col+3*i for i in range(3)])"
   ]
  },
  {
   "cell_type": "code",
   "execution_count": null,
   "metadata": {
    "collapsed": true,
    "deletable": true,
    "editable": true
   },
   "outputs": [],
   "source": [
    "# find all solutions and print them\n",
    "for solution in p.getSolutions():\n",
    "    print\n",
    "    for row in range(3):\n",
    "        for col in range(3):\n",
    "            print solution[row*3+col],\n",
    "        print"
   ]
  },
  {
   "cell_type": "code",
   "execution_count": null,
   "metadata": {
    "collapsed": true
   },
   "outputs": [],
   "source": []
  }
 ],
 "metadata": {
  "kernelspec": {
   "display_name": "Python 2",
   "language": "python",
   "name": "python2"
  },
  "language_info": {
   "codemirror_mode": {
    "name": "ipython",
    "version": 2
   },
   "file_extension": ".py",
   "mimetype": "text/x-python",
   "name": "python",
   "nbconvert_exporter": "python",
   "pygments_lexer": "ipython2",
   "version": "2.7.11"
  }
 },
 "nbformat": 4,
 "nbformat_minor": 2
}
