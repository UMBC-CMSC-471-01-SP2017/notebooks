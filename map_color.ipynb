{
 "cells": [
  {
   "cell_type": "code",
   "execution_count": 42,
   "metadata": {
    "collapsed": true
   },
   "outputs": [],
   "source": [
    "import constraint as c"
   ]
  },
  {
   "cell_type": "code",
   "execution_count": 43,
   "metadata": {
    "collapsed": false
   },
   "outputs": [],
   "source": [
    "# two example problems from russell and norvig\n",
    "\n",
    "australia = \"SA:WA NT Q NSW V; NT:WA Q; NSW:Q V; T:\"\n",
    "    \n",
    "# we use triple quotes since we have newlines \n",
    "usa = \"\"\"WA:OR ID; OR:ID NV CA; CA:NV AZ; NV:ID UT AZ; ID:MT WY UT;\n",
    "       UT:WY CO AZ; MT:ND SD WY; WY:SD NE CO; CO:NE KA OK NM; NM:OK TX;\n",
    "       ND:MN SD; SD:MN IA NE; NE:IA MO KA; KA:MO OK; OK:MO AR TX;\n",
    "       TX:AR LA; MN:WI IA; IA:WI IL MO; MO:IL KY TN AR; AR:MS TN LA;\n",
    "       LA:MS; WI:MI IL; IL:IN; IN:KY; MS:TN AL; AL:TN GA FL; MI:OH;\n",
    "       OH:PA WV KY; KY:WV VA TN; TN:VA NC GA; GA:NC SC FL;\n",
    "       PA:NY NJ DE MD WV; WV:MD VA; VA:MD DC NC; NC:SC; NY:VT MA CA NJ;\n",
    "       NJ:DE; DE:MD; MD:DC; VT:NH MA; MA:NH RI CT; CT:RI; ME:NH;\n",
    "       HI:; AK:\"\"\""
   ]
  },
  {
   "cell_type": "code",
   "execution_count": 44,
   "metadata": {
    "collapsed": true
   },
   "outputs": [],
   "source": [
    "def parse_map(neighbors):\n",
    "    \"\"\"Given a string like 'X:Y Z; Y:Z' returns a tuple of\n",
    "    regions and adjoining pairs.  The syntax is a region\n",
    "    name followed by ':' followed by 0 or more region names,\n",
    "    followed by ';', repeated for each region.  Given 'X:Y'\n",
    "    you don't need 'Y:X'.  Example:\n",
    "      >>> parse_map('X:Y Z; Y:Z') \n",
    "      ([X,Y,Z], [(X,Y),(Y,X),(X,Z),(Z,X),(Y,Z),(Z,Y)])\n",
    "    \"\"\"\n",
    "    adjoins = set()\n",
    "    regions = set()\n",
    "    specs = [spec.split(':') for spec in neighbors.split(';')]\n",
    "    for (r1, r1_neighbors) in specs:\n",
    "        # remove any whitespace from r1's ends\n",
    "        r1 = r1.strip();\n",
    "        # add it to the set of regions\n",
    "        regions.add(r1)\n",
    "        for r2 in r1_neighbors.split():\n",
    "            # add r2 to the set of regions\n",
    "            regions.add(r2)\n",
    "            # add (r1, r2) to set of adjoining pairs\n",
    "            adjoins.add((r1,r2))\n",
    "    # return tuple with list of regions and\n",
    "    # list of adjoining pairs\n",
    "    return (list(regions), list(adjoins))"
   ]
  },
  {
   "cell_type": "code",
   "execution_count": 45,
   "metadata": {
    "collapsed": false
   },
   "outputs": [
    {
     "data": {
      "text/plain": [
       "(['WA', 'Q', 'T', 'V', 'SA', 'NT', 'NSW'],\n",
       " [('NT', 'Q'),\n",
       "  ('SA', 'V'),\n",
       "  ('NSW', 'Q'),\n",
       "  ('SA', 'NT'),\n",
       "  ('SA', 'NSW'),\n",
       "  ('NSW', 'V'),\n",
       "  ('SA', 'Q'),\n",
       "  ('SA', 'WA'),\n",
       "  ('NT', 'WA')])"
      ]
     },
     "execution_count": 45,
     "metadata": {},
     "output_type": "execute_result"
    }
   ],
   "source": [
    "parse_map(australia)"
   ]
  },
  {
   "cell_type": "code",
   "execution_count": 46,
   "metadata": {
    "collapsed": false
   },
   "outputs": [],
   "source": [
    "def color (map, colors=['red','green','blue'], solver=c.BacktrackingSolver()):\n",
    "    # create a new cconstraint problem\n",
    "    p = c.Problem(solver)\n",
    "    # parse_map returns a typle of regions and pairs\n",
    "    (vars, pairs) = parse_map(map)\n",
    "    # each region becomes a variable\n",
    "    p.addVariables(vars, colors)\n",
    "    # each pair of adjoining regions becomes a != constraint\n",
    "    for (v1, v2) in pairs:\n",
    "        p.addConstraint(lambda x,y: x!=y, [v1, v2])\n",
    "    # getSolutionIter() returns a stream of solutions\n",
    "    solution = p.getSolution()\n",
    "    if solution:\n",
    "        # print the variable and it's value,\n",
    "        # i.e., the region name and its color\n",
    "        for v in sorted(vars):\n",
    "            print \"%s:%s; \" % (v, solution[v]),\n",
    "        print\n",
    "    else:\n",
    "        print \"No solution found :-(\""
   ]
  },
  {
   "cell_type": "code",
   "execution_count": 47,
   "metadata": {
    "collapsed": false
   },
   "outputs": [
    {
     "name": "stdout",
     "output_type": "stream",
     "text": [
      "NSW:green  NT:green  Q:red  SA:blue  T:blue  V:red  WA:red \n"
     ]
    }
   ],
   "source": [
    "color(australia, ['red','green','blue'])"
   ]
  },
  {
   "cell_type": "raw",
   "metadata": {},
   "source": [
    "# this will fail, returning None, since more than three\n",
    "# are needed for the USA\n",
    "color(usa, ['red','green','blue'])"
   ]
  },
  {
   "cell_type": "code",
   "execution_count": 48,
   "metadata": {
    "collapsed": false
   },
   "outputs": [
    {
     "name": "stdout",
     "output_type": "stream",
     "text": [
      "AK:yellow  AL:green  AR:green  AZ:red  CA:yellow  CO:yellow  CT:blue  DC:blue  DE:blue  FL:blue  GA:yellow  HI:yellow  IA:blue  ID:yellow  IL:green  IN:yellow  KA:red  KY:green  LA:blue  MA:yellow  MD:green  ME:yellow  MI:blue  MN:green  MO:yellow  MS:yellow  MT:green  NC:green  ND:blue  NE:green  NH:blue  NJ:green  NM:green  NV:blue  NY:blue  OH:red  OK:blue  OR:green  PA:yellow  RI:green  SC:blue  SD:yellow  TN:blue  TX:yellow  UT:green  VA:yellow  VT:green  WA:blue  WI:yellow  WV:blue  WY:blue \n"
     ]
    }
   ],
   "source": [
    "# four colors will be enuf\n",
    "color(usa, ['red','green','blue','yellow'])"
   ]
  },
  {
   "cell_type": "code",
   "execution_count": 49,
   "metadata": {
    "collapsed": false
   },
   "outputs": [
    {
     "name": "stdout",
     "output_type": "stream",
     "text": [
      "AK:yellow  AL:red  AR:yellow  AZ:yellow  CA:blue  CO:yellow  CT:blue  DC:blue  DE:yellow  FL:blue  GA:green  HI:green  IA:blue  ID:green  IL:yellow  IN:red  KA:blue  KY:green  LA:blue  MA:yellow  MD:green  ME:green  MI:blue  MN:red  MO:red  MS:green  MT:blue  NC:yellow  ND:green  NE:green  NH:blue  NJ:green  NM:blue  NV:red  NY:red  OH:red  OK:green  OR:yellow  PA:blue  RI:red  SC:blue  SD:yellow  TN:blue  TX:red  UT:blue  VA:red  VT:green  WA:blue  WI:green  WV:yellow  WY:red \n"
     ]
    }
   ],
   "source": [
    "color(usa, ['red','green','blue','yellow'], c.MinConflictsSolver())"
   ]
  },
  {
   "cell_type": "code",
   "execution_count": null,
   "metadata": {
    "collapsed": true
   },
   "outputs": [],
   "source": []
  },
  {
   "cell_type": "code",
   "execution_count": null,
   "metadata": {
    "collapsed": true
   },
   "outputs": [],
   "source": []
  },
  {
   "cell_type": "code",
   "execution_count": null,
   "metadata": {
    "collapsed": true
   },
   "outputs": [],
   "source": []
  }
 ],
 "metadata": {
  "kernelspec": {
   "display_name": "Python 2",
   "language": "python",
   "name": "python2"
  },
  "language_info": {
   "codemirror_mode": {
    "name": "ipython",
    "version": 2
   },
   "file_extension": ".py",
   "mimetype": "text/x-python",
   "name": "python",
   "nbconvert_exporter": "python",
   "pygments_lexer": "ipython2",
   "version": "2.7.11"
  }
 },
 "nbformat": 4,
 "nbformat_minor": 2
}
