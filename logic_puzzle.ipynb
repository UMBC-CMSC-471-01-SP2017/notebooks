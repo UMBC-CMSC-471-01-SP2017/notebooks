{
 "cells": [
  {
   "cell_type": "code",
   "execution_count": 1,
   "metadata": {
    "collapsed": false,
    "deletable": true,
    "editable": true
   },
   "outputs": [],
   "source": [
    "from aima.logic import *"
   ]
  },
  {
   "cell_type": "markdown",
   "metadata": {
    "deletable": true,
    "editable": true
   },
   "source": [
    "### Q: Which answer in this list below is the correct answer to this question?\n",
    " \n",
    "* **A1**: All of the below.\n",
    "* **A2**: None of the below.\n",
    "* **A3**: All of the above.\n",
    "* **A4**: One of the above.\n",
    "* **A5**: None of the above.\n",
    "* **A6**: None of the above."
   ]
  },
  {
   "cell_type": "markdown",
   "metadata": {
    "deletable": true,
    "editable": true
   },
   "source": [
    "---\n",
    "Each answer corresponds to a constraint:\n",
    "- **A1** is true iff A2 through A6 are all True\n",
    "- **A2** is true iff A3 through A6 are all False\n",
    "- **A3** is True iff both A1 and A2 are True\n",
    "- **A4** is True if at least one of A1, A2 or A3 is True\n",
    "- **A5** is True iff all of A1 through A4 are False\n",
    "- **A6** is True iff all of A1 through A5 are False\n",
    "\n",
    "We can represent the constraints as a conjunction of logic sentences as follows."
   ]
  },
  {
   "cell_type": "code",
   "execution_count": 45,
   "metadata": {
    "collapsed": false,
    "deletable": true,
    "editable": true
   },
   "outputs": [
    {
     "data": {
      "text/plain": [
       "'(A1 <=> (A2 & A3 & A4 & A5 & A6)) & (A2 <=> (~A3 & ~A4 & ~A5 & ~A6)) & (A3 <=> (A1 & A2)) & (A4 <=> (A1 | A2 | A3)) & (A5 <=> (~A1 & ~A2 & ~A3 & ~A4)) & (A6 <=> (~A1 & ~A2 & ~A3 & ~A4 & ~A5)) '"
      ]
     },
     "execution_count": 45,
     "metadata": {},
     "output_type": "execute_result"
    }
   ],
   "source": [
    "sentences = \"\"\"(A1 <=> (A2 & A3 & A4 & A5 & A6)) & \\\n",
    "(A2 <=> (~A3 & ~A4 & ~A5 & ~A6)) & \\\n",
    "(A3 <=> (A1 & A2)) & \\\n",
    "(A4 <=> (A1 | A2 | A3)) & \\\n",
    "(A5 <=> (~A1 & ~A2 & ~A3 & ~A4)) & \\\n",
    "(A6 <=> (~A1 & ~A2 & ~A3 & ~A4 & ~A5)) \"\"\"\n",
    "sentences"
   ]
  },
  {
   "cell_type": "markdown",
   "metadata": {
    "deletable": true,
    "editable": true
   },
   "source": [
    "Use the DPLL algorithm to see if there is a way to assign each propositional variable (A1...A6) to either True or False such that the constraints are satisfied"
   ]
  },
  {
   "cell_type": "code",
   "execution_count": 46,
   "metadata": {
    "collapsed": false,
    "deletable": true,
    "editable": true
   },
   "outputs": [
    {
     "data": {
      "text/plain": [
       "{A5: True, A4: False, A6: False, A1: False, A3: False, A2: False}"
      ]
     },
     "execution_count": 46,
     "metadata": {},
     "output_type": "execute_result"
    }
   ],
   "source": [
    "dpll_satisfiable(expr(sentences))"
   ]
  },
  {
   "cell_type": "markdown",
   "metadata": {
    "deletable": true,
    "editable": true
   },
   "source": [
    "So one way to satisfy the KB is if answer A5 is True and all of the other answers are False.  Is there a way to satisfy the KB if we add that A5 must be false?"
   ]
  },
  {
   "cell_type": "code",
   "execution_count": 47,
   "metadata": {
    "collapsed": false,
    "deletable": true,
    "editable": true
   },
   "outputs": [
    {
     "data": {
      "text/plain": [
       "False"
      ]
     },
     "execution_count": 47,
     "metadata": {},
     "output_type": "execute_result"
    }
   ],
   "source": [
    "dpll_satisfiable(expr(sentences + \" & ~A5 \"))"
   ]
  },
  {
   "cell_type": "markdown",
   "metadata": {
    "collapsed": true,
    "deletable": true,
    "editable": true
   },
   "source": [
    "No, so, A5 is the answer."
   ]
  },
  {
   "cell_type": "code",
   "execution_count": null,
   "metadata": {
    "collapsed": true
   },
   "outputs": [],
   "source": []
  }
 ],
 "metadata": {
  "kernelspec": {
   "display_name": "Python 2",
   "language": "python",
   "name": "python2"
  },
  "language_info": {
   "codemirror_mode": {
    "name": "ipython",
    "version": 2
   },
   "file_extension": ".py",
   "mimetype": "text/x-python",
   "name": "python",
   "nbconvert_exporter": "python",
   "pygments_lexer": "ipython2",
   "version": "2.7.11"
  }
 },
 "nbformat": 4,
 "nbformat_minor": 2
}
